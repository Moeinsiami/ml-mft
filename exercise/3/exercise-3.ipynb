{
 "cells": [
  {
   "cell_type": "code",
   "id": "initial_id",
   "metadata": {
    "collapsed": true,
    "ExecuteTime": {
     "end_time": "2025-08-02T20:56:16.581407Z",
     "start_time": "2025-08-02T20:56:16.577594Z"
    }
   },
   "source": [
    "import numpy as np\n",
    "import pandas as pd\n",
    "import matplotlib.pyplot as plt\n",
    "from sklearn.preprocessing import OneHotEncoder\n",
    "from sklearn.compose import ColumnTransformer\n",
    "from sklearn.model_selection import train_test_split\n",
    "from sklearn.linear_model import LinearRegression\n",
    "from sklearn.metrics import r2_score"
   ],
   "outputs": [],
   "execution_count": 5
  },
  {
   "metadata": {
    "ExecuteTime": {
     "end_time": "2025-08-02T20:56:16.647812Z",
     "start_time": "2025-08-02T20:56:16.600118Z"
    }
   },
   "cell_type": "code",
   "source": "dataset = pd.read_csv('insurance[1].csv')",
   "id": "b6d23b93da2edac0",
   "outputs": [],
   "execution_count": 6
  },
  {
   "metadata": {
    "ExecuteTime": {
     "end_time": "2025-08-02T20:56:49.244401Z",
     "start_time": "2025-08-02T20:56:49.238960Z"
    }
   },
   "cell_type": "code",
   "source": [
    "x = dataset.iloc[:, :-1].values\n",
    "y = dataset['charges'].values.reshape(-1, 1)"
   ],
   "id": "2627c7cb70019746",
   "outputs": [],
   "execution_count": 8
  },
  {
   "metadata": {
    "ExecuteTime": {
     "end_time": "2025-08-02T20:58:02.723661Z",
     "start_time": "2025-08-02T20:58:02.716572Z"
    }
   },
   "cell_type": "code",
   "source": [
    "ct = ColumnTransformer(transformers=[('encoder', OneHotEncoder(), [1,4,5])], remainder='passthrough')\n",
    "x = np.array(ct.fit_transform(x))"
   ],
   "id": "f3e4956ff024c1a5",
   "outputs": [],
   "execution_count": 9
  },
  {
   "metadata": {
    "ExecuteTime": {
     "end_time": "2025-08-02T20:58:15.019112Z",
     "start_time": "2025-08-02T20:58:15.013792Z"
    }
   },
   "cell_type": "code",
   "source": "x_train, x_test, y_train, y_test = train_test_split(x, y, test_size=0.2, random_state=0)",
   "id": "fef310d0c5139b61",
   "outputs": [],
   "execution_count": 10
  },
  {
   "metadata": {
    "ExecuteTime": {
     "end_time": "2025-08-02T20:58:30.021279Z",
     "start_time": "2025-08-02T20:58:29.950021Z"
    }
   },
   "cell_type": "code",
   "source": [
    "model = LinearRegression()\n",
    "model.fit(x_train, y_train)\n",
    "y_pred = model.predict(x_train)"
   ],
   "id": "27d78423f0d504ef",
   "outputs": [],
   "execution_count": 11
  },
  {
   "metadata": {
    "ExecuteTime": {
     "end_time": "2025-08-02T20:58:43.562582Z",
     "start_time": "2025-08-02T20:58:43.554557Z"
    }
   },
   "cell_type": "code",
   "source": [
    "acc = r2_score(y_train, y_pred)\n",
    "acc"
   ],
   "id": "73e3de05feb870e7",
   "outputs": [
    {
     "data": {
      "text/plain": [
       "0.7370262574551634"
      ]
     },
     "execution_count": 12,
     "metadata": {},
     "output_type": "execute_result"
    }
   ],
   "execution_count": 12
  }
 ],
 "metadata": {
  "kernelspec": {
   "display_name": "Python 3",
   "language": "python",
   "name": "python3"
  },
  "language_info": {
   "codemirror_mode": {
    "name": "ipython",
    "version": 2
   },
   "file_extension": ".py",
   "mimetype": "text/x-python",
   "name": "python",
   "nbconvert_exporter": "python",
   "pygments_lexer": "ipython2",
   "version": "2.7.6"
  }
 },
 "nbformat": 4,
 "nbformat_minor": 5
}
