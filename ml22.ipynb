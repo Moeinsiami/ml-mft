{
 "cells": [
  {
   "cell_type": "code",
   "id": "initial_id",
   "metadata": {
    "collapsed": true,
    "ExecuteTime": {
     "end_time": "2025-09-21T10:37:26.477209Z",
     "start_time": "2025-09-21T10:37:26.471845Z"
    }
   },
   "source": [
    "import pandas as pd\n",
    "import numpy as np\n",
    "import matplotlib.pyplot as plt\n",
    "from sklearn.cluster import AgglomerativeClustering\n",
    "from sklearn.preprocessing import StandardScaler\n",
    "import scipy.cluster.hierarchy as sch"
   ],
   "outputs": [],
   "execution_count": 23
  },
  {
   "metadata": {
    "ExecuteTime": {
     "end_time": "2025-09-21T10:37:26.541363Z",
     "start_time": "2025-09-21T10:37:26.517218Z"
    }
   },
   "cell_type": "code",
   "source": [
    "data = {\n",
    "    'customer': ['A', 'B', 'C', 'D', 'E', 'F'],\n",
    "    'age': [25, 34, 22, 45, 52, 23],\n",
    "    'Income': [50000, 60000, 30000, 80000, 90000, 40000],\n",
    "    'SpendingScore': [60, 65, 50, 90, 85, 40]\n",
    "}\n",
    "df = pd.DataFrame(data)"
   ],
   "id": "8a639ae3dba4e359",
   "outputs": [],
   "execution_count": 24
  },
  {
   "metadata": {
    "ExecuteTime": {
     "end_time": "2025-09-21T10:37:26.566857Z",
     "start_time": "2025-09-21T10:37:26.557642Z"
    }
   },
   "cell_type": "code",
   "source": [
    "X = df[['age', 'Income', 'SpendingScore']]\n",
    "scaler = StandardScaler()\n",
    "scaled = scaler.fit_transform(X)"
   ],
   "id": "c48da3ac955f2fc4",
   "outputs": [],
   "execution_count": 25
  },
  {
   "metadata": {
    "ExecuteTime": {
     "end_time": "2025-09-21T10:37:26.604542Z",
     "start_time": "2025-09-21T10:37:26.597454Z"
    }
   },
   "cell_type": "code",
   "source": [
    "clustering = AgglomerativeClustering(n_clusters=3, linkage='ward')\n",
    "labels = clustering.fit_predict(scaled)"
   ],
   "id": "b858a8b387971321",
   "outputs": [],
   "execution_count": 26
  },
  {
   "metadata": {
    "ExecuteTime": {
     "end_time": "2025-09-21T10:37:26.631125Z",
     "start_time": "2025-09-21T10:37:26.624746Z"
    }
   },
   "cell_type": "code",
   "source": "print(labels)",
   "id": "c237cfc74e65d26d",
   "outputs": [
    {
     "name": "stdout",
     "output_type": "stream",
     "text": [
      "[0 0 2 1 1 2]\n"
     ]
    }
   ],
   "execution_count": 27
  }
 ],
 "metadata": {
  "kernelspec": {
   "display_name": "Python 3",
   "language": "python",
   "name": "python3"
  },
  "language_info": {
   "codemirror_mode": {
    "name": "ipython",
    "version": 2
   },
   "file_extension": ".py",
   "mimetype": "text/x-python",
   "name": "python",
   "nbconvert_exporter": "python",
   "pygments_lexer": "ipython2",
   "version": "2.7.6"
  }
 },
 "nbformat": 4,
 "nbformat_minor": 5
}
