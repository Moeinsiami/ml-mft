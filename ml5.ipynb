{
 "cells": [
  {
   "metadata": {
    "ExecuteTime": {
     "end_time": "2025-08-05T10:53:28.012049Z",
     "start_time": "2025-08-05T10:53:28.002843Z"
    }
   },
   "cell_type": "code",
   "source": [
    "import numpy as np\n",
    "import pandas as pd\n",
    "import matplotlib.pyplot as plt\n",
    "from sklearn.preprocessing import StandardScaler\n",
    "from sklearn.svm import SVR"
   ],
   "id": "d08f29d858564371",
   "outputs": [],
   "execution_count": 40
  },
  {
   "metadata": {
    "ExecuteTime": {
     "end_time": "2025-08-05T10:53:28.085288Z",
     "start_time": "2025-08-05T10:53:28.055006Z"
    }
   },
   "cell_type": "code",
   "source": [
    "dataset = pd.read_csv('datasets/Position_Salaries.csv')\n",
    "x = np.array(dataset['Level'].values).reshape(-1, 1)\n",
    "y = np.array(dataset['Salary'].values).reshape(-1, 1)"
   ],
   "id": "a54d314bc5ddd3a",
   "outputs": [],
   "execution_count": 41
  },
  {
   "metadata": {
    "ExecuteTime": {
     "end_time": "2025-08-05T10:53:28.171375Z",
     "start_time": "2025-08-05T10:53:28.153415Z"
    }
   },
   "cell_type": "code",
   "source": [
    "scale_x = StandardScaler()\n",
    "scale_y = StandardScaler()\n",
    "x = scale_x.fit_transform(x)\n",
    "y = scale_y.fit_transform(y)"
   ],
   "id": "938eb7c3c766f956",
   "outputs": [],
   "execution_count": 42
  },
  {
   "metadata": {
    "ExecuteTime": {
     "end_time": "2025-08-05T10:53:28.228320Z",
     "start_time": "2025-08-05T10:53:28.207752Z"
    }
   },
   "cell_type": "code",
   "source": [
    "model = SVR(kernel='rbf')\n",
    "model.fit(x, y)\n",
    "print(model.score(x, y))"
   ],
   "id": "36e5b84f5ab326a5",
   "outputs": [
    {
     "name": "stdout",
     "output_type": "stream",
     "text": [
      "0.7516001070620798\n"
     ]
    },
    {
     "name": "stderr",
     "output_type": "stream",
     "text": [
      "C:\\Users\\aa\\anaconda3\\envs\\dataenv\\Lib\\site-packages\\sklearn\\utils\\validation.py:1408: DataConversionWarning: A column-vector y was passed when a 1d array was expected. Please change the shape of y to (n_samples, ), for example using ravel().\n",
      "  y = column_or_1d(y, warn=True)\n"
     ]
    }
   ],
   "execution_count": 43
  }
 ],
 "metadata": {
  "kernelspec": {
   "display_name": "Python 3",
   "language": "python",
   "name": "python3"
  },
  "language_info": {
   "codemirror_mode": {
    "name": "ipython",
    "version": 2
   },
   "file_extension": ".py",
   "mimetype": "text/x-python",
   "name": "python",
   "nbconvert_exporter": "python",
   "pygments_lexer": "ipython2",
   "version": "2.7.6"
  }
 },
 "nbformat": 4,
 "nbformat_minor": 5
}
