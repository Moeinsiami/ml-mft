{
 "cells": [
  {
   "cell_type": "code",
   "id": "initial_id",
   "metadata": {
    "collapsed": true,
    "ExecuteTime": {
     "end_time": "2025-08-03T11:38:49.827270Z",
     "start_time": "2025-08-03T11:38:49.816356Z"
    }
   },
   "source": [
    "import numpy as np\n",
    "import pandas as pd\n",
    "import matplotlib.pyplot as plt\n",
    "from sklearn.linear_model import LinearRegression\n",
    "from sklearn.metrics import r2_score\n",
    "from sklearn.preprocessing import PolynomialFeatures\n",
    "from sklearn.pipeline import make_pipeline\n",
    "from sklearn.preprocessing import OneHotEncoder\n",
    "from sklearn.compose import ColumnTransformer\n",
    "from sklearn.model_selection import train_test_split\n"
   ],
   "outputs": [],
   "execution_count": 17
  },
  {
   "metadata": {
    "ExecuteTime": {
     "end_time": "2025-08-03T11:38:50.111007Z",
     "start_time": "2025-08-03T11:38:50.013533Z"
    }
   },
   "cell_type": "code",
   "source": "dataset = pd.read_csv('../3/insurance[1].csv')",
   "id": "b7d5d48780e695c2",
   "outputs": [],
   "execution_count": 18
  },
  {
   "metadata": {
    "ExecuteTime": {
     "end_time": "2025-08-03T11:38:50.240250Z",
     "start_time": "2025-08-03T11:38:50.212222Z"
    }
   },
   "cell_type": "code",
   "source": [
    "x = dataset.iloc[:, :-1].values\n",
    "y = dataset['charges'].values.reshape(-1, 1)"
   ],
   "id": "b90b38c253d9aba3",
   "outputs": [],
   "execution_count": 19
  },
  {
   "metadata": {
    "ExecuteTime": {
     "end_time": "2025-08-03T11:41:48.353864Z",
     "start_time": "2025-08-03T11:41:48.345089Z"
    }
   },
   "cell_type": "code",
   "source": [
    "ct = ColumnTransformer(transformers=[('encoder', OneHotEncoder(), [1,4,5])], remainder='passthrough')\n",
    "# x = np.array(ct.fit_transform(x))"
   ],
   "id": "62fc0dd25e66e82c",
   "outputs": [],
   "execution_count": 26
  },
  {
   "metadata": {
    "ExecuteTime": {
     "end_time": "2025-08-03T11:41:48.915715Z",
     "start_time": "2025-08-03T11:41:48.906034Z"
    }
   },
   "cell_type": "code",
   "source": "x_train, x_test, y_train, y_test = train_test_split(x, y, test_size=0.2, random_state=0)",
   "id": "835cfe9f99ac849",
   "outputs": [],
   "execution_count": 27
  },
  {
   "metadata": {
    "ExecuteTime": {
     "end_time": "2025-08-03T11:41:49.649802Z",
     "start_time": "2025-08-03T11:41:49.424667Z"
    }
   },
   "cell_type": "code",
   "source": [
    "model = make_pipeline(PolynomialFeatures(degree =3), LinearRegression())\n",
    "model.fit(x_train, y_train)\n",
    "print(model.score(x_train, y_train))"
   ],
   "id": "39c701600be68a10",
   "outputs": [
    {
     "name": "stdout",
     "output_type": "stream",
     "text": [
      "0.8493166838329297\n"
     ]
    }
   ],
   "execution_count": 28
  },
  {
   "metadata": {},
   "cell_type": "code",
   "outputs": [],
   "execution_count": null,
   "source": "",
   "id": "c63cfb9bf3c74f8d"
  }
 ],
 "metadata": {
  "kernelspec": {
   "display_name": "Python 3",
   "language": "python",
   "name": "python3"
  },
  "language_info": {
   "codemirror_mode": {
    "name": "ipython",
    "version": 2
   },
   "file_extension": ".py",
   "mimetype": "text/x-python",
   "name": "python",
   "nbconvert_exporter": "python",
   "pygments_lexer": "ipython2",
   "version": "2.7.6"
  }
 },
 "nbformat": 4,
 "nbformat_minor": 5
}
