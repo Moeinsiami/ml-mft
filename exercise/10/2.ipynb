{
 "cells": [
  {
   "cell_type": "code",
   "execution_count": 1,
   "id": "7e91b330",
   "metadata": {},
   "outputs": [],
   "source": [
    "import pandas as pd\n",
    "from sklearn.model_selection import train_test_split\n",
    "from sklearn.preprocessing import StandardScaler\n",
    "from sklearn.metrics import accuracy_score\n",
    "from sklearn.ensemble import RandomForestClassifier\n",
    "from sklearn.metrics import precision_score, recall_score\n"
   ]
  },
  {
   "cell_type": "code",
   "execution_count": 2,
   "id": "c484e8ba",
   "metadata": {},
   "outputs": [],
   "source": [
    "df = pd.read_csv(\"KC_housing_data.csv\")\n",
    "\n",
    "df['price_category'] = pd.qcut(df['price'], q=3, labels=[\"cheap\", \"mid\", \"expensive\"])"
   ]
  },
  {
   "cell_type": "code",
   "execution_count": null,
   "id": "108fbcad",
   "metadata": {},
   "outputs": [],
   "source": [
    "X = df.drop(columns=['price', 'price_category'])\n",
    "y = df['price_category']"
   ]
  },
  {
   "cell_type": "code",
   "execution_count": 4,
   "id": "47933236",
   "metadata": {},
   "outputs": [],
   "source": [
    "X = pd.get_dummies(X, drop_first=True)"
   ]
  },
  {
   "cell_type": "code",
   "execution_count": 5,
   "id": "d65fba33",
   "metadata": {},
   "outputs": [],
   "source": [
    "X_train, X_test, y_train, y_test = train_test_split(X, y, test_size=0.2, random_state=42, stratify=y)"
   ]
  },
  {
   "cell_type": "code",
   "execution_count": 6,
   "id": "d6c510b3",
   "metadata": {},
   "outputs": [],
   "source": [
    "scaler = StandardScaler()\n",
    "X_train_scaled = scaler.fit_transform(X_train)\n",
    "X_test_scaled = scaler.transform(X_test)"
   ]
  },
  {
   "cell_type": "code",
   "execution_count": 7,
   "id": "653b9d28",
   "metadata": {},
   "outputs": [],
   "source": [
    "model = RandomForestClassifier(n_estimators=200, random_state=42)\n",
    "model.fit(X_train_scaled, y_train)\n",
    "\n",
    "y_pred = model.predict(X_test_scaled)"
   ]
  },
  {
   "cell_type": "code",
   "execution_count": null,
   "id": "effd61eb",
   "metadata": {},
   "outputs": [
    {
     "name": "stdout",
     "output_type": "stream",
     "text": [
      "0.783695652173913 [0.85185185 0.69620253 0.80781759] [0.82410423 0.71661238 0.81045752]\n"
     ]
    }
   ],
   "source": [
    "acc =accuracy_score(y_test, y_pred)\n",
    "pre = precision_score(y_test, y_pred, average=None, labels=[\"cheap\", \"mid\", \"expensive\"]) # False Positive \n",
    "rec =recall_score(y_test, y_pred, average=None, labels=[\"cheap\", \"mid\", \"expensive\"]) #False Negative\n",
    "print(acc, pre, rec)"
   ]
  }
 ],
 "metadata": {
  "kernelspec": {
   "display_name": "dataenv",
   "language": "python",
   "name": "python3"
  },
  "language_info": {
   "codemirror_mode": {
    "name": "ipython",
    "version": 3
   },
   "file_extension": ".py",
   "mimetype": "text/x-python",
   "name": "python",
   "nbconvert_exporter": "python",
   "pygments_lexer": "ipython3",
   "version": "3.13.2"
  }
 },
 "nbformat": 4,
 "nbformat_minor": 5
}
