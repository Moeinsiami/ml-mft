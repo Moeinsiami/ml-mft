{
 "cells": [
  {
   "cell_type": "code",
   "id": "cf8597e1",
   "metadata": {
    "vscode": {
     "languageId": "plaintext"
    },
    "ExecuteTime": {
     "end_time": "2025-09-16T10:13:50.639891Z",
     "start_time": "2025-09-16T10:13:44.539189Z"
    }
   },
   "source": [
    "import numpy as np\n",
    "import matplotlib.pyplot as plt\n",
    "from sklearn.cluster import KMeans"
   ],
   "outputs": [],
   "execution_count": 1
  },
  {
   "metadata": {
    "ExecuteTime": {
     "end_time": "2025-09-16T10:16:11.546372Z",
     "start_time": "2025-09-16T10:16:11.539257Z"
    }
   },
   "cell_type": "code",
   "source": [
    "x = np.array([\n",
    "    [1, 2], [1,4], [1,0],\n",
    "    [10, 2], [10,4], [10,0],\n",
    "])"
   ],
   "id": "195b49a79a8aeef5",
   "outputs": [],
   "execution_count": 2
  },
  {
   "metadata": {
    "ExecuteTime": {
     "end_time": "2025-09-16T10:16:52.392247Z",
     "start_time": "2025-09-16T10:16:52.067238Z"
    }
   },
   "cell_type": "code",
   "source": "kmean = KMeans(n_clusters=3, random_state=0).fit(x)",
   "id": "e822f78c9ddea6c9",
   "outputs": [
    {
     "name": "stderr",
     "output_type": "stream",
     "text": [
      "C:\\Users\\aa\\anaconda3\\envs\\dataenv\\Lib\\site-packages\\sklearn\\cluster\\_kmeans.py:1419: UserWarning: KMeans is known to have a memory leak on Windows with MKL, when there are less chunks than available threads. You can avoid it by setting the environment variable OMP_NUM_THREADS=1.\n",
      "  warnings.warn(\n"
     ]
    }
   ],
   "execution_count": 3
  },
  {
   "metadata": {
    "ExecuteTime": {
     "end_time": "2025-09-16T10:17:57.817537Z",
     "start_time": "2025-09-16T10:17:57.812557Z"
    }
   },
   "cell_type": "code",
   "source": "label = kmean.labels_",
   "id": "438382445d43930a",
   "outputs": [],
   "execution_count": 5
  },
  {
   "metadata": {
    "ExecuteTime": {
     "end_time": "2025-09-16T10:18:06.565978Z",
     "start_time": "2025-09-16T10:18:06.557391Z"
    }
   },
   "cell_type": "code",
   "source": [
    "print(label)\n",
    "print(kmean.cluster)"
   ],
   "id": "532dd45aca8a9e70",
   "outputs": [
    {
     "name": "stdout",
     "output_type": "stream",
     "text": [
      "[1 2 1 0 0 0]\n"
     ]
    }
   ],
   "execution_count": 6
  },
  {
   "metadata": {},
   "cell_type": "code",
   "outputs": [],
   "execution_count": null,
   "source": "",
   "id": "bc0c790dc4f2f4b1"
  }
 ],
 "metadata": {
  "language_info": {
   "name": "python"
  }
 },
 "nbformat": 4,
 "nbformat_minor": 5
}
