{
 "cells": [
  {
   "cell_type": "code",
   "id": "initial_id",
   "metadata": {
    "collapsed": true,
    "ExecuteTime": {
     "end_time": "2025-08-04T17:56:51.946454Z",
     "start_time": "2025-08-04T17:56:48.048921Z"
    }
   },
   "source": [
    "import numpy as np\n",
    "import pandas as pd\n",
    "import matplotlib.pyplot as plt\n",
    "from sklearn.linear_model import LinearRegression\n",
    "from sklearn.metrics import r2_score\n",
    "from sklearn.preprocessing import PolynomialFeatures\n",
    "from sklearn.pipeline import make_pipeline\n"
   ],
   "outputs": [],
   "execution_count": 2
  },
  {
   "metadata": {
    "ExecuteTime": {
     "end_time": "2025-08-04T17:56:52.037621Z",
     "start_time": "2025-08-04T17:56:51.986965Z"
    }
   },
   "cell_type": "code",
   "source": "dataset = pd.read_csv('datasets/Position_Salaries.csv')",
   "id": "e11436b843f8f6e",
   "outputs": [],
   "execution_count": 3
  },
  {
   "metadata": {
    "ExecuteTime": {
     "end_time": "2025-08-04T17:56:52.168884Z",
     "start_time": "2025-08-04T17:56:52.144060Z"
    }
   },
   "cell_type": "code",
   "source": [
    "y = dataset.iloc[:, -1].values\n",
    "x = dataset.iloc[:, 1:-1].values"
   ],
   "id": "330e5c47b3905043",
   "outputs": [],
   "execution_count": 4
  },
  {
   "metadata": {
    "ExecuteTime": {
     "end_time": "2025-08-04T17:56:52.188366Z",
     "start_time": "2025-08-04T17:56:52.180970Z"
    }
   },
   "cell_type": "code",
   "source": [
    "# model = LinearRegression()\n",
    "# model.fit(x,y)"
   ],
   "id": "e6422860efd61999",
   "outputs": [],
   "execution_count": 5
  },
  {
   "metadata": {
    "ExecuteTime": {
     "end_time": "2025-08-04T17:56:52.230693Z",
     "start_time": "2025-08-04T17:56:52.225306Z"
    }
   },
   "cell_type": "code",
   "source": [
    "# y_pred = model.predict(x)\n",
    "# s = model.score(x, y)\n",
    "# s= r2_score(y, y_pred)"
   ],
   "id": "52accc25b76acfe8",
   "outputs": [],
   "execution_count": 6
  },
  {
   "metadata": {
    "ExecuteTime": {
     "end_time": "2025-08-04T17:56:52.388379Z",
     "start_time": "2025-08-04T17:56:52.287371Z"
    }
   },
   "cell_type": "code",
   "source": [
    "poly = PolynomialFeatures(degree = 2)\n",
    "x_poly = poly.fit_transform(x)\n",
    "linear = LinearRegression()\n",
    "linear.fit(x_poly, y)\n",
    "print(linear.score(x_poly, y))"
   ],
   "id": "80045401ea3d8d2e",
   "outputs": [
    {
     "name": "stdout",
     "output_type": "stream",
     "text": [
      "0.9162082221443942\n"
     ]
    }
   ],
   "execution_count": 7
  },
  {
   "metadata": {
    "ExecuteTime": {
     "end_time": "2025-08-04T17:56:52.594052Z",
     "start_time": "2025-08-04T17:56:52.432492Z"
    }
   },
   "cell_type": "code",
   "source": [
    "plt.scatter(x, y, color='red')\n",
    "plt.plot(x, linear.predict(x_poly), color='blue')"
   ],
   "id": "ac082bdb9031d766",
   "outputs": [
    {
     "data": {
      "text/plain": [
       "[<matplotlib.lines.Line2D at 0x21a85022990>]"
      ]
     },
     "execution_count": 8,
     "metadata": {},
     "output_type": "execute_result"
    },
    {
     "data": {
      "text/plain": [
       "<Figure size 640x480 with 1 Axes>"
      ],
      "image/png": "[encoded data removed]"
     },
     "metadata": {},
     "output_type": "display_data"
    }
   ],
   "execution_count": 8
  },
  {
   "metadata": {
    "ExecuteTime": {
     "end_time": "2025-08-04T17:56:52.616061Z",
     "start_time": "2025-08-04T17:56:52.606222Z"
    }
   },
   "cell_type": "code",
   "source": [
    "model = make_pipeline(PolynomialFeatures(degree = 2), LinearRegression())\n",
    "model.fit(x, y)\n",
    "print(model.score(x, y))"
   ],
   "id": "b07a579c8caefaf3",
   "outputs": [
    {
     "name": "stdout",
     "output_type": "stream",
     "text": [
      "0.9162082221443942\n"
     ]
    }
   ],
   "execution_count": 9
  },
  {
   "metadata": {
    "ExecuteTime": {
     "end_time": "2025-08-04T17:56:52.648427Z",
     "start_time": "2025-08-04T17:56:52.642130Z"
    }
   },
   "cell_type": "code",
   "source": "",
   "id": "979111a400f47bc2",
   "outputs": [],
   "execution_count": null
  }
 ],
 "metadata": {
  "kernelspec": {
   "display_name": "Python 3",
   "language": "python",
   "name": "python3"
  },
  "language_info": {
   "codemirror_mode": {
    "name": "ipython",
    "version": 2
   },
   "file_extension": ".py",
   "mimetype": "text/x-python",
   "name": "python",
   "nbconvert_exporter": "python",
   "pygments_lexer": "ipython2",
   "version": "2.7.6"
  }
 },
 "nbformat": 4,
 "nbformat_minor": 5
}
