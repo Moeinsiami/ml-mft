{
 "cells": [
  {
   "cell_type": "code",
   "id": "initial_id",
   "metadata": {
    "collapsed": true,
    "ExecuteTime": {
     "end_time": "2025-08-11T22:50:21.733073Z",
     "start_time": "2025-08-11T22:50:20.305879Z"
    }
   },
   "source": [
    "import numpy as np\n",
    "import pandas as pd\n",
    "import matplotlib.pyplot as plt\n",
    "from sklearn.tree import DecisionTreeRegressor\n",
    "from sklearn.model_selection import train_test_split\n",
    "from sklearn.linear_model import LinearRegression\n",
    "from sklearn.preprocessing import PolynomialFeatures, StandardScaler"
   ],
   "outputs": [],
   "execution_count": 2
  },
  {
   "metadata": {
    "ExecuteTime": {
     "end_time": "2025-08-11T22:50:24.997960Z",
     "start_time": "2025-08-11T22:50:24.994060Z"
    }
   },
   "cell_type": "code",
   "source": [
    "# dataset = pd.read_csv(\"datasets/housing[1].csv\")\n",
    "# # print(dataset[\"ocean_proximity\"].value_counts())\n",
    "# dataset[\"ocean_proximity\"] = dataset[\"ocean_proximity\"].map({\"<1H OCEAN\": 1, \"INLAND\": 2, \"NEAR OCEAN\": 3, \"NEAR BAY\": 4, \"ISLAND\": 5})\n",
    "# dataset.to_csv(\"housing[2].csv\", index=False)"
   ],
   "id": "a2fa9b45717e22da",
   "outputs": [],
   "execution_count": 4
  },
  {
   "metadata": {
    "ExecuteTime": {
     "end_time": "2025-08-11T22:50:26.323274Z",
     "start_time": "2025-08-11T22:50:26.301045Z"
    }
   },
   "cell_type": "code",
   "source": [
    "df = pd.read_csv(\"datasets/housing[2].csv\")\n",
    "df[\"total_bedrooms\"] = df[\"total_bedrooms\"].fillna(df[\"total_bedrooms\"].mean(numeric_only=True))"
   ],
   "id": "7b298ecf90ffc1b0",
   "outputs": [],
   "execution_count": 5
  },
  {
   "metadata": {
    "ExecuteTime": {
     "end_time": "2025-08-11T22:50:55.348632Z",
     "start_time": "2025-08-11T22:50:55.310506Z"
    }
   },
   "cell_type": "code",
   "source": [
    "# x = df.drop(\"median_house_value\", axis=1)\n",
    "s = StandardScaler()\n",
    "df[\"longitude\"] = s.fit_transform(np.array(df[\"longitude\"].values).reshape(-1, 1))\n",
    "df[\"population\"] = s.fit_transform(np.array(df[\"population\"].values).reshape(-1, 1))\n",
    "df[\"households\"] = s.fit_transform(np.array(df[\"households\"].values).reshape(-1, 1))\n",
    "x = df.drop(\"median_house_value\", axis=1).iloc[:, :].values\n",
    "y = np.array(df[\"median_house_value\"].values).reshape(-1, 1)\n"
   ],
   "id": "1983b228ba8919a7",
   "outputs": [
    {
     "ename": "AttributeError",
     "evalue": "'numpy.ndarray' object has no attribute 'head'",
     "output_type": "error",
     "traceback": [
      "\u001B[31m---------------------------------------------------------------------------\u001B[39m",
      "\u001B[31mAttributeError\u001B[39m                            Traceback (most recent call last)",
      "\u001B[36mCell\u001B[39m\u001B[36m \u001B[39m\u001B[32mIn[9]\u001B[39m\u001B[32m, line 7\u001B[39m\n\u001B[32m      5\u001B[39m df[\u001B[33m\"\u001B[39m\u001B[33mhouseholds\u001B[39m\u001B[33m\"\u001B[39m] = s.fit_transform(np.array(df[\u001B[33m\"\u001B[39m\u001B[33mhouseholds\u001B[39m\u001B[33m\"\u001B[39m].values).reshape(-\u001B[32m1\u001B[39m, \u001B[32m1\u001B[39m))\n\u001B[32m      6\u001B[39m x = df.drop(\u001B[33m\"\u001B[39m\u001B[33mmedian_house_value\u001B[39m\u001B[33m\"\u001B[39m, axis=\u001B[32m1\u001B[39m).iloc[:, :].values\n\u001B[32m----> \u001B[39m\u001B[32m7\u001B[39m x.head()\n\u001B[32m      8\u001B[39m y = np.array(df[\u001B[33m\"\u001B[39m\u001B[33mmedian_house_value\u001B[39m\u001B[33m\"\u001B[39m].values).reshape(-\u001B[32m1\u001B[39m, \u001B[32m1\u001B[39m)\n",
      "\u001B[31mAttributeError\u001B[39m: 'numpy.ndarray' object has no attribute 'head'"
     ]
    }
   ],
   "execution_count": 9
  },
  {
   "metadata": {
    "ExecuteTime": {
     "end_time": "2025-08-11T22:51:57.591001Z",
     "start_time": "2025-08-11T22:51:57.377960Z"
    }
   },
   "cell_type": "code",
   "source": [
    "poly = PolynomialFeatures(degree=3)\n",
    "x_poly = poly.fit_transform(x)\n",
    "\n",
    "x_train, x_test, y_train, y_test = train_test_split(x_poly, y, test_size=0.2, random_state=0)\n",
    "\n",
    "# model = DecisionTreeRegressor(random_state=0)\n",
    "# model.fit(x_train, y_train)\n",
    "# print(model.score(x_test, y_test))\n",
    "\n",
    "model = LinearRegression()\n",
    "model.fit(x_train, y_train)\n",
    "print(model.score(x_test, y_test))\n",
    "print(model.score(x_train, y_train))"
   ],
   "id": "d0a78d19090166d",
   "outputs": [
    {
     "name": "stdout",
     "output_type": "stream",
     "text": [
      "0.7240816598117796\n",
      "0.7346713331313519\n"
     ]
    }
   ],
   "execution_count": 10
  }
 ],
 "metadata": {
  "kernelspec": {
   "display_name": "Python 3",
   "language": "python",
   "name": "python3"
  },
  "language_info": {
   "codemirror_mode": {
    "name": "ipython",
    "version": 2
   },
   "file_extension": ".py",
   "mimetype": "text/x-python",
   "name": "python",
   "nbconvert_exporter": "python",
   "pygments_lexer": "ipython2",
   "version": "2.7.6"
  }
 },
 "nbformat": 4,
 "nbformat_minor": 5
}
