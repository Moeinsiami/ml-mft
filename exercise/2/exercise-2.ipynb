{
 "cells": [
  {
   "cell_type": "code",
   "id": "initial_id",
   "metadata": {
    "collapsed": true,
    "ExecuteTime": {
     "end_time": "2025-09-02T10:06:19.108689Z",
     "start_time": "2025-09-02T10:06:17.255008Z"
    }
   },
   "source": [
    "import numpy as np\n",
    "import pandas as pd\n",
    "import matplotlib.pyplot as plt\n",
    "from sklearn.preprocessing import OneHotEncoder\n",
    "from sklearn.compose import ColumnTransformer\n",
    "from sklearn.model_selection import train_test_split\n",
    "from sklearn.linear_model import LinearRegression\n",
    "from sklearn.metrics import r2_score"
   ],
   "outputs": [],
   "execution_count": 1
  },
  {
   "metadata": {
    "ExecuteTime": {
     "end_time": "2025-09-02T10:06:19.255993Z",
     "start_time": "2025-09-02T10:06:19.247498Z"
    }
   },
   "cell_type": "code",
   "source": "dataset = pd.read_csv('diabetes[1].csv')",
   "id": "6aaf34a083978671",
   "outputs": [],
   "execution_count": 2
  },
  {
   "metadata": {
    "ExecuteTime": {
     "end_time": "2025-09-02T10:06:22.727814Z",
     "start_time": "2025-09-02T10:06:22.709022Z"
    }
   },
   "cell_type": "code",
   "source": [
    "x = dataset.iloc[:, :6].join(dataset.iloc[:, 7:]).values\n",
    "y = dataset['DiabetesPedigreeFunction'].values.reshape(-1, 1)"
   ],
   "id": "aeb2bd90663e71eb",
   "outputs": [
    {
     "data": {
      "text/plain": [
       "array([[  6. , 148. ,  72. , ...,  33.6,  50. ,   1. ],\n",
       "       [  1. ,  85. ,  66. , ...,  26.6,  31. ,   0. ],\n",
       "       [  8. , 183. ,  64. , ...,  23.3,  32. ,   1. ],\n",
       "       ...,\n",
       "       [  5. , 121. ,  72. , ...,  26.2,  30. ,   0. ],\n",
       "       [  1. , 126. ,  60. , ...,  30.1,  47. ,   1. ],\n",
       "       [  1. ,  93. ,  70. , ...,  30.4,  23. ,   0. ]], shape=(768, 8))"
      ]
     },
     "execution_count": 7,
     "metadata": {},
     "output_type": "execute_result"
    }
   ],
   "execution_count": 7
  },
  {
   "metadata": {
    "ExecuteTime": {
     "end_time": "2025-09-02T10:06:19.385305Z",
     "start_time": "2025-09-02T10:06:19.375237Z"
    }
   },
   "cell_type": "code",
   "source": "x_train, x_test, y_train, y_test = train_test_split(x, y, test_size=0.2, random_state=0)",
   "id": "793c6c1ffb44973",
   "outputs": [],
   "execution_count": 4
  },
  {
   "metadata": {
    "ExecuteTime": {
     "end_time": "2025-09-02T10:06:19.490143Z",
     "start_time": "2025-09-02T10:06:19.418858Z"
    }
   },
   "cell_type": "code",
   "source": [
    "model = LinearRegression()\n",
    "model.fit(x_train, y_train)\n",
    "y_pred = model.predict(x_train)"
   ],
   "id": "11dd64cad91331ed",
   "outputs": [],
   "execution_count": 5
  },
  {
   "metadata": {
    "ExecuteTime": {
     "end_time": "2025-09-02T10:06:19.542494Z",
     "start_time": "2025-09-02T10:06:19.521891Z"
    }
   },
   "cell_type": "code",
   "source": [
    "acc = r2_score(y_train, y_pred)\n",
    "acc"
   ],
   "id": "177457bf0be8fd02",
   "outputs": [
    {
     "data": {
      "text/plain": [
       "0.0777720943695791"
      ]
     },
     "execution_count": 6,
     "metadata": {},
     "output_type": "execute_result"
    }
   ],
   "execution_count": 6
  }
 ],
 "metadata": {
  "kernelspec": {
   "display_name": "Python 3",
   "language": "python",
   "name": "python3"
  },
  "language_info": {
   "codemirror_mode": {
    "name": "ipython",
    "version": 2
   },
   "file_extension": ".py",
   "mimetype": "text/x-python",
   "name": "python",
   "nbconvert_exporter": "python",
   "pygments_lexer": "ipython2",
   "version": "2.7.6"
  }
 },
 "nbformat": 4,
 "nbformat_minor": 5
}
