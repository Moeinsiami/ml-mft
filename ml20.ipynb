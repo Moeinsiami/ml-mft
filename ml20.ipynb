{
 "cells": [
  {
   "cell_type": "code",
   "id": "initial_id",
   "metadata": {
    "collapsed": true,
    "ExecuteTime": {
     "end_time": "2025-09-16T10:59:48.743764Z",
     "start_time": "2025-09-16T10:59:48.740107Z"
    }
   },
   "source": [
    "import numpy as np\n",
    "import pandas as pd\n",
    "from sklearn.cluster import KMeans"
   ],
   "outputs": [],
   "execution_count": 5
  },
  {
   "metadata": {
    "ExecuteTime": {
     "end_time": "2025-09-16T10:59:48.806562Z",
     "start_time": "2025-09-16T10:59:48.771981Z"
    }
   },
   "cell_type": "code",
   "source": [
    "np.random.seed(42)\n",
    "weak = np.random.normal(loc=[40, 45], scale=5, size=(15, 2))\n",
    "mid = np.random.normal(loc=[65, 70], scale=5, size=(20, 2))\n",
    "good = np.random.normal(loc=[90, 88], scale=4, size=(15, 2))"
   ],
   "id": "51cc5e61c232b02",
   "outputs": [],
   "execution_count": 6
  },
  {
   "metadata": {
    "ExecuteTime": {
     "end_time": "2025-09-16T10:59:48.827328Z",
     "start_time": "2025-09-16T10:59:48.820211Z"
    }
   },
   "cell_type": "code",
   "source": [
    "x = np.vstack((weak, mid, good))\n",
    "df = pd.DataFrame(x, columns=['math', 'science'])"
   ],
   "id": "bcdc9030ab2be957",
   "outputs": [],
   "execution_count": 7
  },
  {
   "metadata": {
    "ExecuteTime": {
     "end_time": "2025-09-16T10:59:48.856190Z",
     "start_time": "2025-09-16T10:59:48.846389Z"
    }
   },
   "cell_type": "code",
   "source": "kmean = KMeans(n_clusters=3, random_state=0).fit(df)",
   "id": "a1e7f6c4e9bc3a37",
   "outputs": [
    {
     "name": "stderr",
     "output_type": "stream",
     "text": [
      "C:\\Users\\aa\\anaconda3\\envs\\dataenv\\Lib\\site-packages\\sklearn\\cluster\\_kmeans.py:1419: UserWarning: KMeans is known to have a memory leak on Windows with MKL, when there are less chunks than available threads. You can avoid it by setting the environment variable OMP_NUM_THREADS=1.\n",
      "  warnings.warn(\n"
     ]
    }
   ],
   "execution_count": 8
  },
  {
   "metadata": {
    "ExecuteTime": {
     "end_time": "2025-09-16T11:00:54.383791Z",
     "start_time": "2025-09-16T11:00:54.375906Z"
    }
   },
   "cell_type": "code",
   "source": [
    "df['cluster'] = kmean.labels_\n",
    "print(df)"
   ],
   "id": "c9871bdaa427c33c",
   "outputs": [
    {
     "name": "stdout",
     "output_type": "stream",
     "text": [
      "         math    science  cluster\n",
      "0   42.483571  44.308678        1\n",
      "1   43.238443  52.615149        1\n",
      "2   38.829233  43.829315        1\n",
      "3   47.896064  48.837174        1\n",
      "4   37.652628  47.712800        1\n",
      "5   37.682912  42.671351        1\n",
      "6   41.209811  35.433599        1\n",
      "7   31.375411  42.188562        1\n",
      "8   34.935844  46.571237        1\n",
      "9   35.459880  37.938481        1\n",
      "10  47.328244  43.871118        1\n",
      "11  40.337641  37.876259        1\n",
      "12  37.278086  45.554613        1\n",
      "13  34.245032  46.878490        1\n",
      "14  36.996807  43.541531        1\n",
      "15  61.991467  79.261391        0\n",
      "16  64.932514  64.711445        0\n",
      "17  69.112725  63.895782        0\n",
      "18  66.044318  60.201649        0\n",
      "19  58.359070  70.984306        0\n",
      "20  68.692333  70.856841        0\n",
      "21  64.421759  68.494482        0\n",
      "22  57.607390  66.400779        0\n",
      "23  62.696806  75.285611        0\n",
      "24  66.718091  61.184799        0\n",
      "25  66.620420  68.074589        0\n",
      "26  61.615390  73.058381        0\n",
      "27  70.154998  74.656401        0\n",
      "28  60.803912  68.453938        0\n",
      "29  66.656317  74.877726        0\n",
      "30  62.604129  69.071705        0\n",
      "31  59.468325  64.018967        0\n",
      "32  69.062629  76.781200        0\n",
      "33  64.639949  75.017664        0\n",
      "34  66.808180  66.774401        0\n",
      "35  91.445582  94.152146        2\n",
      "36  89.856696  94.258575        2\n",
      "37  79.521020  91.287610        2\n",
      "38  90.348188  86.803971        2\n",
      "39  90.367043  80.049724        2\n",
      "40  89.121312  89.428450        2\n",
      "41  95.911576  85.926919        2\n",
      "42  86.766026  85.992972        2\n",
      "43  93.661608  89.315004        2\n",
      "44  87.880959  90.053070        2\n",
      "45  90.388310  91.874580        2\n",
      "46  87.191788  86.689351        2\n",
      "47  88.431567  82.145940        2\n",
      "48  91.184481  89.044221        2\n",
      "49  90.020454  87.061651        2\n"
     ]
    }
   ],
   "execution_count": 11
  },
  {
   "metadata": {
    "ExecuteTime": {
     "end_time": "2025-09-16T11:02:17.624470Z",
     "start_time": "2025-09-16T11:02:17.521512Z"
    }
   },
   "cell_type": "code",
   "source": "print(df['cluster'].value_counts().sort_index())",
   "id": "905ea3a1e337cc50",
   "outputs": [
    {
     "name": "stdout",
     "output_type": "stream",
     "text": [
      "cluster\n",
      "0    20\n",
      "1    15\n",
      "2    15\n",
      "Name: count, dtype: int64\n"
     ]
    }
   ],
   "execution_count": 12
  },
  {
   "metadata": {},
   "cell_type": "code",
   "outputs": [],
   "execution_count": null,
   "source": "",
   "id": "6891a1c667c32a5f"
  }
 ],
 "metadata": {
  "kernelspec": {
   "display_name": "Python 3",
   "language": "python",
   "name": "python3"
  },
  "language_info": {
   "codemirror_mode": {
    "name": "ipython",
    "version": 2
   },
   "file_extension": ".py",
   "mimetype": "text/x-python",
   "name": "python",
   "nbconvert_exporter": "python",
   "pygments_lexer": "ipython2",
   "version": "2.7.6"
  }
 },
 "nbformat": 4,
 "nbformat_minor": 5
}
