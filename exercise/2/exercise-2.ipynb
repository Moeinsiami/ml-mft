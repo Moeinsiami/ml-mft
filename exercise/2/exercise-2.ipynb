{
 "cells": [
  {
   "cell_type": "code",
   "id": "initial_id",
   "metadata": {
    "collapsed": true,
    "ExecuteTime": {
     "end_time": "2025-08-02T19:26:08.256853Z",
     "start_time": "2025-08-02T19:26:08.247033Z"
    }
   },
   "source": [
    "import numpy as np\n",
    "import pandas as pd\n",
    "import matplotlib.pyplot as plt\n",
    "from sklearn.preprocessing import OneHotEncoder\n",
    "from sklearn.compose import ColumnTransformer\n",
    "from sklearn.model_selection import train_test_split\n",
    "from sklearn.linear_model import LinearRegression\n",
    "from sklearn.metrics import r2_score"
   ],
   "outputs": [],
   "execution_count": 2
  },
  {
   "metadata": {
    "ExecuteTime": {
     "end_time": "2025-08-02T19:26:21.471437Z",
     "start_time": "2025-08-02T19:26:21.403086Z"
    }
   },
   "cell_type": "code",
   "source": "dataset = pd.read_csv('diabetes[1].csv')",
   "id": "6aaf34a083978671",
   "outputs": [],
   "execution_count": 3
  },
  {
   "metadata": {
    "ExecuteTime": {
     "end_time": "2025-08-02T19:52:04.496505Z",
     "start_time": "2025-08-02T19:52:04.484286Z"
    }
   },
   "cell_type": "code",
   "source": [
    "x = dataset.iloc[:, :6].join(dataset.iloc[:, 7:]).values\n",
    "y = dataset['DiabetesPedigreeFunction'].values.reshape(-1, 1)\n"
   ],
   "id": "aeb2bd90663e71eb",
   "outputs": [],
   "execution_count": 20
  },
  {
   "metadata": {
    "ExecuteTime": {
     "end_time": "2025-08-02T19:52:46.530263Z",
     "start_time": "2025-08-02T19:52:46.519497Z"
    }
   },
   "cell_type": "code",
   "source": "x_train, x_test, y_train, y_test = train_test_split(x, y, test_size=0.2, random_state=0)",
   "id": "793c6c1ffb44973",
   "outputs": [],
   "execution_count": 22
  },
  {
   "metadata": {
    "ExecuteTime": {
     "end_time": "2025-08-02T20:27:26.126778Z",
     "start_time": "2025-08-02T20:27:26.108201Z"
    }
   },
   "cell_type": "code",
   "source": [
    "model = LinearRegression()\n",
    "model.fit(x_train, y_train)\n",
    "y_pred = model.predict(x_train)"
   ],
   "id": "11dd64cad91331ed",
   "outputs": [],
   "execution_count": 24
  },
  {
   "metadata": {
    "ExecuteTime": {
     "end_time": "2025-08-02T20:27:29.585172Z",
     "start_time": "2025-08-02T20:27:29.570064Z"
    }
   },
   "cell_type": "code",
   "source": [
    "acc = r2_score(y_train, y_pred)\n",
    "acc"
   ],
   "id": "177457bf0be8fd02",
   "outputs": [
    {
     "data": {
      "text/plain": [
       "0.0777720943695791"
      ]
     },
     "execution_count": 25,
     "metadata": {},
     "output_type": "execute_result"
    }
   ],
   "execution_count": 25
  }
 ],
 "metadata": {
  "kernelspec": {
   "display_name": "Python 3",
   "language": "python",
   "name": "python3"
  },
  "language_info": {
   "codemirror_mode": {
    "name": "ipython",
    "version": 2
   },
   "file_extension": ".py",
   "mimetype": "text/x-python",
   "name": "python",
   "nbconvert_exporter": "python",
   "pygments_lexer": "ipython2",
   "version": "2.7.6"
  }
 },
 "nbformat": 4,
 "nbformat_minor": 5
}
